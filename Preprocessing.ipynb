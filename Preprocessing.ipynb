{
 "cells": [
  {
   "cell_type": "code",
   "execution_count": 1,
   "metadata": {},
   "outputs": [],
   "source": [
    "import pandas as pd\n",
    "import numpy as np"
   ]
  },
  {
   "cell_type": "code",
   "execution_count": 2,
   "metadata": {},
   "outputs": [],
   "source": [
    "# read in occupation data\n",
    "df = pd.read_excel('Full_Occupation_Data.xlsx')\n",
    "\n",
    "# select only the columns we want\n",
    "df = df[['AREA', 'AREA_TITLE', 'OCC_CODE', 'OCC_TITLE', 'TOT_EMP', 'A_MEAN']]\n",
    "\n",
    "# rename columns\n",
    "df.columns = ['AREA', 'AREA_TITLE', 'OCC_CODE', 'OCC_TITLE', 'TOTAL_EMPLOYED', 'ANNUAL_MEAN_INCOME']"
   ]
  },
  {
   "cell_type": "code",
   "execution_count": 3,
   "metadata": {},
   "outputs": [],
   "source": [
    "# filter to only counseling occupations\n",
    "occ_list = ['21-1012', '21-1013', '21-1015', '21-1018', '21-1019', '21-1022', '21-1023', '21-1029']\n",
    "df = df[df['OCC_CODE'].isin(occ_list)]"
   ]
  },
  {
   "cell_type": "code",
   "execution_count": 4,
   "metadata": {},
   "outputs": [],
   "source": [
    "# remove na values\n",
    "df = df.dropna()"
   ]
  },
  {
   "cell_type": "code",
   "execution_count": 5,
   "metadata": {},
   "outputs": [
    {
     "data": {
      "text/plain": [
       "AREA                   object\n",
       "AREA_TITLE             object\n",
       "OCC_CODE               object\n",
       "OCC_TITLE              object\n",
       "TOTAL_EMPLOYED        float64\n",
       "ANNUAL_MEAN_INCOME    float64\n",
       "dtype: object"
      ]
     },
     "execution_count": 5,
     "metadata": {},
     "output_type": "execute_result"
    }
   ],
   "source": [
    "# change data types\n",
    "df['AREA'] = df['AREA'].astype(str)\n",
    "df['ANNUAL_MEAN_INCOME'] = pd.to_numeric(df['ANNUAL_MEAN_INCOME'], errors='coerce')\n",
    "df['TOTAL_EMPLOYED'] = pd.to_numeric(df['TOTAL_EMPLOYED'], errors='coerce')\n",
    "df = df.dropna()\n",
    "df.dtypes"
   ]
  },
  {
   "cell_type": "code",
   "execution_count": 208,
   "metadata": {},
   "outputs": [],
   "source": [
    "# reshape the data frame to be the mean income for all counselors\n",
    "occupation_df = pd.DataFrame(df.groupby('AREA').agg({'ANNUAL_MEAN_INCOME':'mean', 'TOTAL_EMPLOYED':'sum'}))\n",
    "occupation_df = occupation_df.reset_index()"
   ]
  },
  {
   "cell_type": "code",
   "execution_count": 209,
   "metadata": {},
   "outputs": [],
   "source": [
    "# import health data\n",
    "health_df = pd.read_csv('Full_Health_Data_By_County.csv')\n",
    "\n",
    "# filter to data about poor mental health\n",
    "health_df = health_df[health_df['Measure'] == 'Mental health not good for >=14 days among adults aged >=18 years']"
   ]
  },
  {
   "cell_type": "code",
   "execution_count": 213,
   "metadata": {},
   "outputs": [],
   "source": [
    "# select only the relevant columns\n",
    "health_df = health_df[['Data_Value', 'TotalPopulation', 'LocationID']]\n",
    "\n",
    "# rename columns\n",
    "health_df.columns = ['Percent of Poor Mental Health', 'Total Population', 'FIPS']"
   ]
  },
  {
   "cell_type": "code",
   "execution_count": 218,
   "metadata": {},
   "outputs": [],
   "source": [
    "# change datatypes\n",
    "health_df['FIPS'] = health_df['FIPS'].astype(str)"
   ]
  },
  {
   "cell_type": "code",
   "execution_count": 221,
   "metadata": {},
   "outputs": [],
   "source": [
    "# ensure that all area codes fit the standard 5 digits by adding leading zeros\n",
    "health_df['FIPS'] = health_df['FIPS'].str.zfill(5)"
   ]
  },
  {
   "cell_type": "code",
   "execution_count": 222,
   "metadata": {},
   "outputs": [
    {
     "data": {
      "text/html": [
       "<div>\n",
       "<style scoped>\n",
       "    .dataframe tbody tr th:only-of-type {\n",
       "        vertical-align: middle;\n",
       "    }\n",
       "\n",
       "    .dataframe tbody tr th {\n",
       "        vertical-align: top;\n",
       "    }\n",
       "\n",
       "    .dataframe thead th {\n",
       "        text-align: right;\n",
       "    }\n",
       "</style>\n",
       "<table border=\"1\" class=\"dataframe\">\n",
       "  <thead>\n",
       "    <tr style=\"text-align: right;\">\n",
       "      <th></th>\n",
       "      <th>Percent of Poor Mental Health</th>\n",
       "      <th>Total Population</th>\n",
       "      <th>FIPS</th>\n",
       "    </tr>\n",
       "  </thead>\n",
       "  <tbody>\n",
       "    <tr>\n",
       "      <th>316</th>\n",
       "      <td>18.7</td>\n",
       "      <td>47647</td>\n",
       "      <td>22087</td>\n",
       "    </tr>\n",
       "    <tr>\n",
       "      <th>382</th>\n",
       "      <td>14.7</td>\n",
       "      <td>122530</td>\n",
       "      <td>20045</td>\n",
       "    </tr>\n",
       "    <tr>\n",
       "      <th>541</th>\n",
       "      <td>17.9</td>\n",
       "      <td>152439</td>\n",
       "      <td>22073</td>\n",
       "    </tr>\n",
       "    <tr>\n",
       "      <th>701</th>\n",
       "      <td>15.7</td>\n",
       "      <td>16180</td>\n",
       "      <td>08003</td>\n",
       "    </tr>\n",
       "    <tr>\n",
       "      <th>704</th>\n",
       "      <td>12.5</td>\n",
       "      <td>3166857</td>\n",
       "      <td>06059</td>\n",
       "    </tr>\n",
       "  </tbody>\n",
       "</table>\n",
       "</div>"
      ],
      "text/plain": [
       "     Percent of Poor Mental Health  Total Population   FIPS\n",
       "316                           18.7             47647  22087\n",
       "382                           14.7            122530  20045\n",
       "541                           17.9            152439  22073\n",
       "701                           15.7             16180  08003\n",
       "704                           12.5           3166857  06059"
      ]
     },
     "execution_count": 222,
     "metadata": {},
     "output_type": "execute_result"
    }
   ],
   "source": [
    "health_df.head()"
   ]
  },
  {
   "cell_type": "code",
   "execution_count": 232,
   "metadata": {},
   "outputs": [],
   "source": [
    "# import data needed to translate area codes\n",
    "codes_df = pd.read_excel('CBSA_and_FIPS_codes.xls', dtype={'FIPS State Code':'str', 'FIPS County Code':'str'})\n",
    "\n",
    "# create unified FIPS code\n",
    "codes_df['FIPS'] = codes_df['FIPS State Code'] + codes_df['FIPS County Code']"
   ]
  },
  {
   "cell_type": "code",
   "execution_count": 238,
   "metadata": {},
   "outputs": [],
   "source": [
    "# filter to the only two columns we need\n",
    "codes_df = codes_df[['CBSA Code', 'FIPS']]"
   ]
  },
  {
   "cell_type": "code",
   "execution_count": 242,
   "metadata": {},
   "outputs": [],
   "source": [
    "# merge the merge the CBSA codes onto the mental health dataframe\n",
    "health_df = health_df.merge(codes_df, on='FIPS', how='left').dropna()"
   ]
  },
  {
   "cell_type": "code",
   "execution_count": 247,
   "metadata": {},
   "outputs": [],
   "source": [
    "# create a measure of the total number of people in poor mental health\n",
    "health_df['Total Poor Mental Health'] = health_df['Percent of Poor Mental Health'] * health_df['Total Population'] / 100"
   ]
  },
  {
   "cell_type": "code",
   "execution_count": 254,
   "metadata": {},
   "outputs": [],
   "source": [
    "# group by CBSA regions\n",
    "health_df = pd.DataFrame(health_df.groupby('CBSA Code')[['Total Population', 'Total Poor Mental Health']].sum())\n",
    "health_df = health_df.reset_index()"
   ]
  },
  {
   "cell_type": "code",
   "execution_count": 263,
   "metadata": {},
   "outputs": [
    {
     "data": {
      "text/html": [
       "<div>\n",
       "<style scoped>\n",
       "    .dataframe tbody tr th:only-of-type {\n",
       "        vertical-align: middle;\n",
       "    }\n",
       "\n",
       "    .dataframe tbody tr th {\n",
       "        vertical-align: top;\n",
       "    }\n",
       "\n",
       "    .dataframe thead th {\n",
       "        text-align: right;\n",
       "    }\n",
       "</style>\n",
       "<table border=\"1\" class=\"dataframe\">\n",
       "  <thead>\n",
       "    <tr style=\"text-align: right;\">\n",
       "      <th></th>\n",
       "      <th>CBSA Code</th>\n",
       "      <th>Total Population</th>\n",
       "      <th>Total Poor Mental Health</th>\n",
       "    </tr>\n",
       "  </thead>\n",
       "  <tbody>\n",
       "    <tr>\n",
       "      <th>0</th>\n",
       "      <td>10100</td>\n",
       "      <td>85110</td>\n",
       "      <td>8967.654</td>\n",
       "    </tr>\n",
       "    <tr>\n",
       "      <th>1</th>\n",
       "      <td>10140</td>\n",
       "      <td>151900</td>\n",
       "      <td>24987.550</td>\n",
       "    </tr>\n",
       "    <tr>\n",
       "      <th>2</th>\n",
       "      <td>10180</td>\n",
       "      <td>346370</td>\n",
       "      <td>55479.655</td>\n",
       "    </tr>\n",
       "    <tr>\n",
       "      <th>3</th>\n",
       "      <td>10220</td>\n",
       "      <td>76794</td>\n",
       "      <td>13246.965</td>\n",
       "    </tr>\n",
       "    <tr>\n",
       "      <th>4</th>\n",
       "      <td>10300</td>\n",
       "      <td>195616</td>\n",
       "      <td>32472.256</td>\n",
       "    </tr>\n",
       "  </tbody>\n",
       "</table>\n",
       "</div>"
      ],
      "text/plain": [
       "  CBSA Code  Total Population  Total Poor Mental Health\n",
       "0     10100             85110                  8967.654\n",
       "1     10140            151900                 24987.550\n",
       "2     10180            346370                 55479.655\n",
       "3     10220             76794                 13246.965\n",
       "4     10300            195616                 32472.256"
      ]
     },
     "execution_count": 263,
     "metadata": {},
     "output_type": "execute_result"
    }
   ],
   "source": [
    "health_df.head()"
   ]
  },
  {
   "cell_type": "code",
   "execution_count": 264,
   "metadata": {},
   "outputs": [
    {
     "data": {
      "text/html": [
       "<div>\n",
       "<style scoped>\n",
       "    .dataframe tbody tr th:only-of-type {\n",
       "        vertical-align: middle;\n",
       "    }\n",
       "\n",
       "    .dataframe tbody tr th {\n",
       "        vertical-align: top;\n",
       "    }\n",
       "\n",
       "    .dataframe thead th {\n",
       "        text-align: right;\n",
       "    }\n",
       "</style>\n",
       "<table border=\"1\" class=\"dataframe\">\n",
       "  <thead>\n",
       "    <tr style=\"text-align: right;\">\n",
       "      <th></th>\n",
       "      <th>AREA</th>\n",
       "      <th>ANNUAL_MEAN_INCOME</th>\n",
       "      <th>TOTAL_EMPLOYED</th>\n",
       "    </tr>\n",
       "  </thead>\n",
       "  <tbody>\n",
       "    <tr>\n",
       "      <th>0</th>\n",
       "      <td>10180</td>\n",
       "      <td>49235.000000</td>\n",
       "      <td>590.0</td>\n",
       "    </tr>\n",
       "    <tr>\n",
       "      <th>1</th>\n",
       "      <td>10380</td>\n",
       "      <td>32115.000000</td>\n",
       "      <td>110.0</td>\n",
       "    </tr>\n",
       "    <tr>\n",
       "      <th>2</th>\n",
       "      <td>10420</td>\n",
       "      <td>52688.571429</td>\n",
       "      <td>2680.0</td>\n",
       "    </tr>\n",
       "    <tr>\n",
       "      <th>3</th>\n",
       "      <td>10500</td>\n",
       "      <td>49563.333333</td>\n",
       "      <td>270.0</td>\n",
       "    </tr>\n",
       "    <tr>\n",
       "      <th>4</th>\n",
       "      <td>10540</td>\n",
       "      <td>64560.000000</td>\n",
       "      <td>290.0</td>\n",
       "    </tr>\n",
       "  </tbody>\n",
       "</table>\n",
       "</div>"
      ],
      "text/plain": [
       "    AREA  ANNUAL_MEAN_INCOME  TOTAL_EMPLOYED\n",
       "0  10180        49235.000000           590.0\n",
       "1  10380        32115.000000           110.0\n",
       "2  10420        52688.571429          2680.0\n",
       "3  10500        49563.333333           270.0\n",
       "4  10540        64560.000000           290.0"
      ]
     },
     "execution_count": 264,
     "metadata": {},
     "output_type": "execute_result"
    }
   ],
   "source": [
    "occupation_df.head()"
   ]
  },
  {
   "cell_type": "code",
   "execution_count": 270,
   "metadata": {},
   "outputs": [],
   "source": [
    "# merge  the CBSA codes the health and occupation data frames\n",
    "df = occupation_df.merge(health_df, left_on='AREA', right_on='CBSA Code', how='left').dropna()"
   ]
  },
  {
   "cell_type": "code",
   "execution_count": 278,
   "metadata": {},
   "outputs": [],
   "source": [
    "# select only the columns we want\n",
    "df = df[['ANNUAL_MEAN_INCOME', 'TOTAL_EMPLOYED', 'CBSA Code',\n",
    "       'Total Population', 'Total Poor Mental Health']]\n",
    "\n",
    "# rename columns\n",
    "df.columns = ['mean_income', 'total_employed', 'cbsa', 'population', 'poor_mental_health']"
   ]
  },
  {
   "cell_type": "code",
   "execution_count": 279,
   "metadata": {},
   "outputs": [
    {
     "data": {
      "text/html": [
       "<div>\n",
       "<style scoped>\n",
       "    .dataframe tbody tr th:only-of-type {\n",
       "        vertical-align: middle;\n",
       "    }\n",
       "\n",
       "    .dataframe tbody tr th {\n",
       "        vertical-align: top;\n",
       "    }\n",
       "\n",
       "    .dataframe thead th {\n",
       "        text-align: right;\n",
       "    }\n",
       "</style>\n",
       "<table border=\"1\" class=\"dataframe\">\n",
       "  <thead>\n",
       "    <tr style=\"text-align: right;\">\n",
       "      <th></th>\n",
       "      <th>mean_income</th>\n",
       "      <th>total_employed</th>\n",
       "      <th>cbsa</th>\n",
       "      <th>population</th>\n",
       "      <th>poor_mental_health</th>\n",
       "    </tr>\n",
       "  </thead>\n",
       "  <tbody>\n",
       "    <tr>\n",
       "      <th>0</th>\n",
       "      <td>49235.000000</td>\n",
       "      <td>590.0</td>\n",
       "      <td>10180</td>\n",
       "      <td>346370.0</td>\n",
       "      <td>55479.655</td>\n",
       "    </tr>\n",
       "    <tr>\n",
       "      <th>2</th>\n",
       "      <td>52688.571429</td>\n",
       "      <td>2680.0</td>\n",
       "      <td>10420</td>\n",
       "      <td>1402898.0</td>\n",
       "      <td>228244.974</td>\n",
       "    </tr>\n",
       "    <tr>\n",
       "      <th>3</th>\n",
       "      <td>49563.333333</td>\n",
       "      <td>270.0</td>\n",
       "      <td>10500</td>\n",
       "      <td>296354.0</td>\n",
       "      <td>50270.225</td>\n",
       "    </tr>\n",
       "    <tr>\n",
       "      <th>4</th>\n",
       "      <td>64560.000000</td>\n",
       "      <td>290.0</td>\n",
       "      <td>10540</td>\n",
       "      <td>262108.0</td>\n",
       "      <td>41150.956</td>\n",
       "    </tr>\n",
       "    <tr>\n",
       "      <th>5</th>\n",
       "      <td>59085.000000</td>\n",
       "      <td>4010.0</td>\n",
       "      <td>10580</td>\n",
       "      <td>1757100.0</td>\n",
       "      <td>237785.436</td>\n",
       "    </tr>\n",
       "  </tbody>\n",
       "</table>\n",
       "</div>"
      ],
      "text/plain": [
       "    mean_income  total_employed   cbsa  population  poor_mental_health\n",
       "0  49235.000000           590.0  10180    346370.0           55479.655\n",
       "2  52688.571429          2680.0  10420   1402898.0          228244.974\n",
       "3  49563.333333           270.0  10500    296354.0           50270.225\n",
       "4  64560.000000           290.0  10540    262108.0           41150.956\n",
       "5  59085.000000          4010.0  10580   1757100.0          237785.436"
      ]
     },
     "execution_count": 279,
     "metadata": {},
     "output_type": "execute_result"
    }
   ],
   "source": [
    "df.head()"
   ]
  },
  {
   "cell_type": "code",
   "execution_count": 280,
   "metadata": {},
   "outputs": [],
   "source": [
    "# save to file\n",
    "df.to_csv('distress_vs_resources.csv')"
   ]
  },
  {
   "cell_type": "code",
   "execution_count": null,
   "metadata": {},
   "outputs": [],
   "source": []
  }
 ],
 "metadata": {
  "kernelspec": {
   "display_name": "base",
   "language": "python",
   "name": "python3"
  },
  "language_info": {
   "codemirror_mode": {
    "name": "ipython",
    "version": 3
   },
   "file_extension": ".py",
   "mimetype": "text/x-python",
   "name": "python",
   "nbconvert_exporter": "python",
   "pygments_lexer": "ipython3",
   "version": "3.9.12"
  },
  "orig_nbformat": 4
 },
 "nbformat": 4,
 "nbformat_minor": 2
}
