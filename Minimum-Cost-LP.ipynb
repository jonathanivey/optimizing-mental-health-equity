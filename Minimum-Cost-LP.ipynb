{
  "cells": [
    {
      "cell_type": "markdown",
      "metadata": {
        "id": "ewnu3EonEZ61"
      },
      "source": [
        "Installs and Imports"
      ]
    },
    {
      "cell_type": "code",
      "execution_count": null,
      "metadata": {
        "id": "zCfWLmUrEeP-"
      },
      "outputs": [],
      "source": [
        "import pyomo.environ as pyo\n",
        "import pandas as pd\n",
        "import numpy as np"
      ]
    },
    {
      "cell_type": "markdown",
      "metadata": {
        "id": "ZFoQgytV1Qob"
      },
      "source": [
        "**Sets**\n",
        "\n",
        "* $\\{1,2,\\ldots,n\\}$ = set of regions in the U.S. (indexed by $i$ or $j$)\n",
        "\n",
        "**Parameters**\n",
        "\n",
        "* $b_i =$  supply of counselors in region $i$ ($i = 1,2,\\ldots,n$)\n",
        "* $d_j =$  demand for counselors in region $j$ ($j = 1,2,\\ldots,n$)\n",
        "* $e =$ equitable care ratio. Given by $\\frac{\\sum_{i = 1}^n b_i}{\\sum_{j = 1}^n d_j}$\n",
        "* $c_{ij} = $ cost to incentivize a counselor from region $i$ to region $j$ ($i = 1,2,\\ldots,n; \\ j = 1,2,\\ldots,n$)\n",
        "\n",
        "**Decision Variables**\n",
        "\n",
        "* $x_{ij} = $ number of counselors incentivized from region $i$ to region $j$ ($i = 1,2,\\ldots,n; \\ j = 1,2,\\ldots,n$)\n",
        "\n",
        "**Model**\n",
        "\n",
        "$\\begin{align}\n",
        "\\min \\  & \\sum_{i=1}^n \\sum_{j = 1}^n c_{ij}x_{ij} & & \\textrm{(counselor incentivization cost)}\\\\\n",
        "\\textrm{s.t.}\\ & b_i + \\sum_{j = 1}^n x_{ji} - \\sum_{j = 1}^n x_{ij} \\geq ed_i, \\ \\forall i = 1,2,\\ldots,n && \\textrm{(region $i$ meets the equitable care standard)}\\\\\n",
        "&  x_{ij} \\geq 0, \\ \\forall i = 1,2,\\ldots,n && \\textrm{(no negative flow)} \\\\\n",
        " &&\n",
        "\\end{align}$"
      ]
    },
    {
      "cell_type": "markdown",
      "metadata": {
        "id": "2OvQgBtSNCCg"
      },
      "source": [
        "$c_{ij} = $ (number of years we want to incentivize work for) $*$ (non-negative difference in income between region $i$ and region $j$) $+$ (constant incentive cost)\n",
        "\n",
        "t * max(0, income[i] - income[j]) + a"
      ]
    },
    {
      "cell_type": "code",
      "execution_count": null,
      "metadata": {
        "colab": {
          "base_uri": "https://localhost:8080/",
          "height": 424
        },
        "id": "iRSkABB_dHp_",
        "outputId": "f2632d3d-00e0-4fb6-dd92-aac8dbe2baf5"
      },
      "outputs": [
        {
          "data": {
            "text/html": [
              "\n",
              "  <div id=\"df-ae76d498-7671-411d-a1f7-97db121230ee\">\n",
              "    <div class=\"colab-df-container\">\n",
              "      <div>\n",
              "<style scoped>\n",
              "    .dataframe tbody tr th:only-of-type {\n",
              "        vertical-align: middle;\n",
              "    }\n",
              "\n",
              "    .dataframe tbody tr th {\n",
              "        vertical-align: top;\n",
              "    }\n",
              "\n",
              "    .dataframe thead th {\n",
              "        text-align: right;\n",
              "    }\n",
              "</style>\n",
              "<table border=\"1\" class=\"dataframe\">\n",
              "  <thead>\n",
              "    <tr style=\"text-align: right;\">\n",
              "      <th></th>\n",
              "      <th>Unnamed: 0</th>\n",
              "      <th>mean_income</th>\n",
              "      <th>counselor_supply</th>\n",
              "      <th>cbsa</th>\n",
              "      <th>population</th>\n",
              "      <th>mental_health_demand</th>\n",
              "    </tr>\n",
              "  </thead>\n",
              "  <tbody>\n",
              "    <tr>\n",
              "      <th>0</th>\n",
              "      <td>0</td>\n",
              "      <td>49235.00000</td>\n",
              "      <td>590</td>\n",
              "      <td>10180</td>\n",
              "      <td>346370</td>\n",
              "      <td>55479.655</td>\n",
              "    </tr>\n",
              "    <tr>\n",
              "      <th>1</th>\n",
              "      <td>2</td>\n",
              "      <td>52688.57143</td>\n",
              "      <td>2680</td>\n",
              "      <td>10420</td>\n",
              "      <td>1402898</td>\n",
              "      <td>228244.974</td>\n",
              "    </tr>\n",
              "    <tr>\n",
              "      <th>2</th>\n",
              "      <td>3</td>\n",
              "      <td>49563.33333</td>\n",
              "      <td>270</td>\n",
              "      <td>10500</td>\n",
              "      <td>296354</td>\n",
              "      <td>50270.225</td>\n",
              "    </tr>\n",
              "    <tr>\n",
              "      <th>3</th>\n",
              "      <td>4</td>\n",
              "      <td>64560.00000</td>\n",
              "      <td>290</td>\n",
              "      <td>10540</td>\n",
              "      <td>262108</td>\n",
              "      <td>41150.956</td>\n",
              "    </tr>\n",
              "    <tr>\n",
              "      <th>4</th>\n",
              "      <td>5</td>\n",
              "      <td>59085.00000</td>\n",
              "      <td>4010</td>\n",
              "      <td>10580</td>\n",
              "      <td>1757100</td>\n",
              "      <td>237785.436</td>\n",
              "    </tr>\n",
              "    <tr>\n",
              "      <th>...</th>\n",
              "      <td>...</td>\n",
              "      <td>...</td>\n",
              "      <td>...</td>\n",
              "      <td>...</td>\n",
              "      <td>...</td>\n",
              "      <td>...</td>\n",
              "    </tr>\n",
              "    <tr>\n",
              "      <th>363</th>\n",
              "      <td>368</td>\n",
              "      <td>57050.00000</td>\n",
              "      <td>1200</td>\n",
              "      <td>49420</td>\n",
              "      <td>503758</td>\n",
              "      <td>83371.949</td>\n",
              "    </tr>\n",
              "    <tr>\n",
              "      <th>364</th>\n",
              "      <td>369</td>\n",
              "      <td>51393.33333</td>\n",
              "      <td>1200</td>\n",
              "      <td>49620</td>\n",
              "      <td>900896</td>\n",
              "      <td>138287.536</td>\n",
              "    </tr>\n",
              "    <tr>\n",
              "      <th>365</th>\n",
              "      <td>370</td>\n",
              "      <td>50003.33333</td>\n",
              "      <td>2100</td>\n",
              "      <td>49660</td>\n",
              "      <td>1062840</td>\n",
              "      <td>178621.735</td>\n",
              "    </tr>\n",
              "    <tr>\n",
              "      <th>366</th>\n",
              "      <td>371</td>\n",
              "      <td>69288.33333</td>\n",
              "      <td>450</td>\n",
              "      <td>49700</td>\n",
              "      <td>353090</td>\n",
              "      <td>54823.405</td>\n",
              "    </tr>\n",
              "    <tr>\n",
              "      <th>367</th>\n",
              "      <td>372</td>\n",
              "      <td>47048.00000</td>\n",
              "      <td>450</td>\n",
              "      <td>49740</td>\n",
              "      <td>435648</td>\n",
              "      <td>65565.024</td>\n",
              "    </tr>\n",
              "  </tbody>\n",
              "</table>\n",
              "<p>368 rows × 6 columns</p>\n",
              "</div>\n",
              "      <button class=\"colab-df-convert\" onclick=\"convertToInteractive('df-ae76d498-7671-411d-a1f7-97db121230ee')\"\n",
              "              title=\"Convert this dataframe to an interactive table.\"\n",
              "              style=\"display:none;\">\n",
              "        \n",
              "  <svg xmlns=\"http://www.w3.org/2000/svg\" height=\"24px\"viewBox=\"0 0 24 24\"\n",
              "       width=\"24px\">\n",
              "    <path d=\"M0 0h24v24H0V0z\" fill=\"none\"/>\n",
              "    <path d=\"M18.56 5.44l.94 2.06.94-2.06 2.06-.94-2.06-.94-.94-2.06-.94 2.06-2.06.94zm-11 1L8.5 8.5l.94-2.06 2.06-.94-2.06-.94L8.5 2.5l-.94 2.06-2.06.94zm10 10l.94 2.06.94-2.06 2.06-.94-2.06-.94-.94-2.06-.94 2.06-2.06.94z\"/><path d=\"M17.41 7.96l-1.37-1.37c-.4-.4-.92-.59-1.43-.59-.52 0-1.04.2-1.43.59L10.3 9.45l-7.72 7.72c-.78.78-.78 2.05 0 2.83L4 21.41c.39.39.9.59 1.41.59.51 0 1.02-.2 1.41-.59l7.78-7.78 2.81-2.81c.8-.78.8-2.07 0-2.86zM5.41 20L4 18.59l7.72-7.72 1.47 1.35L5.41 20z\"/>\n",
              "  </svg>\n",
              "      </button>\n",
              "      \n",
              "  <style>\n",
              "    .colab-df-container {\n",
              "      display:flex;\n",
              "      flex-wrap:wrap;\n",
              "      gap: 12px;\n",
              "    }\n",
              "\n",
              "    .colab-df-convert {\n",
              "      background-color: #E8F0FE;\n",
              "      border: none;\n",
              "      border-radius: 50%;\n",
              "      cursor: pointer;\n",
              "      display: none;\n",
              "      fill: #1967D2;\n",
              "      height: 32px;\n",
              "      padding: 0 0 0 0;\n",
              "      width: 32px;\n",
              "    }\n",
              "\n",
              "    .colab-df-convert:hover {\n",
              "      background-color: #E2EBFA;\n",
              "      box-shadow: 0px 1px 2px rgba(60, 64, 67, 0.3), 0px 1px 3px 1px rgba(60, 64, 67, 0.15);\n",
              "      fill: #174EA6;\n",
              "    }\n",
              "\n",
              "    [theme=dark] .colab-df-convert {\n",
              "      background-color: #3B4455;\n",
              "      fill: #D2E3FC;\n",
              "    }\n",
              "\n",
              "    [theme=dark] .colab-df-convert:hover {\n",
              "      background-color: #434B5C;\n",
              "      box-shadow: 0px 1px 3px 1px rgba(0, 0, 0, 0.15);\n",
              "      filter: drop-shadow(0px 1px 2px rgba(0, 0, 0, 0.3));\n",
              "      fill: #FFFFFF;\n",
              "    }\n",
              "  </style>\n",
              "\n",
              "      <script>\n",
              "        const buttonEl =\n",
              "          document.querySelector('#df-ae76d498-7671-411d-a1f7-97db121230ee button.colab-df-convert');\n",
              "        buttonEl.style.display =\n",
              "          google.colab.kernel.accessAllowed ? 'block' : 'none';\n",
              "\n",
              "        async function convertToInteractive(key) {\n",
              "          const element = document.querySelector('#df-ae76d498-7671-411d-a1f7-97db121230ee');\n",
              "          const dataTable =\n",
              "            await google.colab.kernel.invokeFunction('convertToInteractive',\n",
              "                                                     [key], {});\n",
              "          if (!dataTable) return;\n",
              "\n",
              "          const docLinkHtml = 'Like what you see? Visit the ' +\n",
              "            '<a target=\"_blank\" href=https://colab.research.google.com/notebooks/data_table.ipynb>data table notebook</a>'\n",
              "            + ' to learn more about interactive tables.';\n",
              "          element.innerHTML = '';\n",
              "          dataTable['output_type'] = 'display_data';\n",
              "          await google.colab.output.renderOutput(dataTable, element);\n",
              "          const docLink = document.createElement('div');\n",
              "          docLink.innerHTML = docLinkHtml;\n",
              "          element.appendChild(docLink);\n",
              "        }\n",
              "      </script>\n",
              "    </div>\n",
              "  </div>\n",
              "  "
            ],
            "text/plain": [
              "     Unnamed: 0  mean_income  counselor_supply   cbsa  population  \\\n",
              "0             0  49235.00000               590  10180      346370   \n",
              "1             2  52688.57143              2680  10420     1402898   \n",
              "2             3  49563.33333               270  10500      296354   \n",
              "3             4  64560.00000               290  10540      262108   \n",
              "4             5  59085.00000              4010  10580     1757100   \n",
              "..          ...          ...               ...    ...         ...   \n",
              "363         368  57050.00000              1200  49420      503758   \n",
              "364         369  51393.33333              1200  49620      900896   \n",
              "365         370  50003.33333              2100  49660     1062840   \n",
              "366         371  69288.33333               450  49700      353090   \n",
              "367         372  47048.00000               450  49740      435648   \n",
              "\n",
              "     mental_health_demand  \n",
              "0               55479.655  \n",
              "1              228244.974  \n",
              "2               50270.225  \n",
              "3               41150.956  \n",
              "4              237785.436  \n",
              "..                    ...  \n",
              "363             83371.949  \n",
              "364            138287.536  \n",
              "365            178621.735  \n",
              "366             54823.405  \n",
              "367             65565.024  \n",
              "\n",
              "[368 rows x 6 columns]"
            ]
          },
          "execution_count": 7,
          "metadata": {},
          "output_type": "execute_result"
        }
      ],
      "source": [
        "distress_df = pd.read_csv('distress_vs_resources.csv')\n",
        "distress_df"
      ]
    },
    {
      "cell_type": "code",
      "execution_count": null,
      "metadata": {
        "id": "cmLWYDFL1RNZ"
      },
      "outputs": [],
      "source": [
        "# set of regions, indexed by i\n",
        "I = list(distress_df.index)\n",
        "\n",
        "# constant incentive cost\n",
        "a = 10000\n",
        "\n",
        "# number of years that we are expecting counselors to stay in the region\n",
        "t = 5\n",
        "\n",
        "# supply of counselors in each region\n",
        "b = {i: distress_df.at[i,'counselor_supply'] for i in I}\n",
        "\n",
        "# demand for mental health in each region\n",
        "d = {i: distress_df.at[i,'mental_health_demand'] for i in I}\n",
        "\n",
        "# cost to send a counselor from region i to region j\n",
        "# calculated by taking the nonnegative difference between the incomes of region\n",
        "# i and region j plus a constant administrative cost\n",
        "# formula: c[i, j] = t * max(0, income[i] - income[j]) + a\n",
        "c = {(i,j): t * max(0, distress_df.at[i,'mean_income'] - distress_df.at[j,'mean_income']) + a for i in I for j in I}\n",
        "\n",
        "# equitable standard of mental health care\n",
        "e = sum(b.values()) / sum(d.values())"
      ]
    },
    {
      "cell_type": "code",
      "execution_count": null,
      "metadata": {
        "id": "qfyWO2X7A9hZ"
      },
      "outputs": [],
      "source": [
        "# Create and Clear the model\n",
        "model = pyo.ConcreteModel()\n",
        "model.clear()\n",
        "\n",
        "# Define index set for the regions\n",
        "model.I = pyo.Set(initialize=I)\n",
        "\n",
        "# Define supply in each region\n",
        "model.b = pyo.Param(model.I, initialize=b)\n",
        "\n",
        "# Define the demand in each region\n",
        "model.d = pyo.Param(model.I, initialize=d)\n",
        "\n",
        "# Cost of incentivizing from region i to region j\n",
        "model.c = pyo.Param(model.I, model.I, initialize=c)\n",
        "\n",
        "# Number of counselors incentivized from region i to region j\n",
        "model.x = pyo.Var(model.I, model.I, domain=pyo.NonNegativeReals)\n",
        "\n",
        "# Define the objective (minimizing cost)\n",
        "def obj_rule(model):\n",
        "  return(sum(model.c[i, j] * model.x[i, j] for i in model.I for j in model.I)) # total cost of shipping\n",
        "\n",
        "model.obj = pyo.Objective(rule=obj_rule, sense=pyo.minimize)\n",
        "\n",
        "# Define equitable care constraint\n",
        "def equitable_care_rule(model, i):\n",
        "  return b[i] + sum(model.x[j, i] - model.x[i, j] for j in model.I) >= e * d[i]\n",
        "\n",
        "# include constraint for every region\n",
        "model.equitable_care_requirement = pyo.Constraint(model.I, rule=equitable_care_rule)\n"
      ]
    },
    {
      "cell_type": "markdown",
      "metadata": {
        "id": "Xpyh6nITnZW7"
      },
      "source": [
        "### Solving the Model"
      ]
    },
    {
      "cell_type": "code",
      "execution_count": null,
      "metadata": {
        "colab": {
          "base_uri": "https://localhost:8080/"
        },
        "id": "5yo0eS0BnYYU",
        "outputId": "8f1f1b4f-5b5d-4278-a125-9599bb9d6442"
      },
      "outputs": [
        {
          "name": "stdout",
          "output_type": "stream",
          "text": [
            "# ==========================================================\n",
            "# = Solver Results                                         =\n",
            "# ==========================================================\n",
            "# ----------------------------------------------------------\n",
            "#   Problem Information\n",
            "# ----------------------------------------------------------\n",
            "Problem: \n",
            "- Name: unknown\n",
            "  Lower bound: 5367826871.0\n",
            "  Upper bound: 5367826871.0\n",
            "  Number of objectives: 1\n",
            "  Number of constraints: 369\n",
            "  Number of variables: 135425\n",
            "  Number of nonzeros: 135056\n",
            "  Sense: minimize\n",
            "# ----------------------------------------------------------\n",
            "#   Solver Information\n",
            "# ----------------------------------------------------------\n",
            "Solver: \n",
            "- Status: ok\n",
            "  User time: -1.0\n",
            "  System time: 6.07\n",
            "  Wallclock time: 6.17\n",
            "  Termination condition: optimal\n",
            "  Termination message: Model was solved to optimality (subject to tolerances), and an optimal solution is available.\n",
            "  Statistics: \n",
            "    Branch and bound: \n",
            "      Number of bounded subproblems: None\n",
            "      Number of created subproblems: None\n",
            "    Black box: \n",
            "      Number of iterations: 4901\n",
            "  Error rc: 0\n",
            "  Time: 6.2315514087677\n",
            "# ----------------------------------------------------------\n",
            "#   Solution Information\n",
            "# ----------------------------------------------------------\n",
            "Solution: \n",
            "- number of solutions: 0\n",
            "  number of solutions displayed: 0\n"
          ]
        }
      ],
      "source": [
        "#Declare the solver as CBC\n",
        "opt = pyo.SolverFactory('cbc')\n",
        "\n",
        "#Solve the model\n",
        "opt.solve(model).write()"
      ]
    },
    {
      "cell_type": "code",
      "execution_count": null,
      "metadata": {
        "id": "HFAnFZRihNYv"
      },
      "outputs": [],
      "source": [
        "#Create new empty dataframe\n",
        "df = pd.DataFrame({'from_cbsa':[], 'to_cbsa': [], 'counselors_transferred': []})"
      ]
    },
    {
      "cell_type": "code",
      "execution_count": null,
      "metadata": {
        "id": "7Rg7NdzgGilZ"
      },
      "outputs": [],
      "source": [
        "#Access the variable values greater than 0 using pprint and save them to dataframe\n",
        "for i in I:\n",
        "  for j in I:\n",
        "    if model.x[i,j].value > 0:\n",
        "      #model.x[i,j].pprint()\n",
        "      df.loc[len(df.index)] = [distress_df.at[i,'cbsa'], distress_df.at[j,'cbsa'], model.x[i,j].value]"
      ]
    },
    {
      "cell_type": "code",
      "execution_count": null,
      "metadata": {
        "colab": {
          "base_uri": "https://localhost:8080/"
        },
        "id": "-4ZGJv_7JBmT",
        "outputId": "980301d4-7b84-402e-aba6-cac34bee9323"
      },
      "outputs": [
        {
          "name": "stdout",
          "output_type": "stream",
          "text": [
            "objective value =  5367826877.467677\n"
          ]
        }
      ],
      "source": [
        "print('objective value = ', pyo.value(model.obj))"
      ]
    },
    {
      "cell_type": "code",
      "execution_count": null,
      "metadata": {
        "colab": {
          "base_uri": "https://localhost:8080/",
          "height": 17
        },
        "id": "b3b0oFcLk5wv",
        "outputId": "091a7a0c-a6b0-40dd-82b1-af3999e9c6b8"
      },
      "outputs": [
        {
          "data": {
            "application/javascript": "\n    async function download(id, filename, size) {\n      if (!google.colab.kernel.accessAllowed) {\n        return;\n      }\n      const div = document.createElement('div');\n      const label = document.createElement('label');\n      label.textContent = `Downloading \"${filename}\": `;\n      div.appendChild(label);\n      const progress = document.createElement('progress');\n      progress.max = size;\n      div.appendChild(progress);\n      document.body.appendChild(div);\n\n      const buffers = [];\n      let downloaded = 0;\n\n      const channel = await google.colab.kernel.comms.open(id);\n      // Send a message to notify the kernel that we're ready.\n      channel.send({})\n\n      for await (const message of channel.messages) {\n        // Send a message to notify the kernel that we're ready.\n        channel.send({})\n        if (message.buffers) {\n          for (const buffer of message.buffers) {\n            buffers.push(buffer);\n            downloaded += buffer.byteLength;\n            progress.value = downloaded;\n          }\n        }\n      }\n      const blob = new Blob(buffers, {type: 'application/binary'});\n      const a = document.createElement('a');\n      a.href = window.URL.createObjectURL(blob);\n      a.download = filename;\n      div.appendChild(a);\n      a.click();\n      div.remove();\n    }\n  ",
            "text/plain": [
              "<IPython.core.display.Javascript object>"
            ]
          },
          "metadata": {},
          "output_type": "display_data"
        },
        {
          "data": {
            "application/javascript": "download(\"download_e2dbeb17-9956-4139-9cad-8a9bda575674\", \"CBSA.csv\", 10901)",
            "text/plain": [
              "<IPython.core.display.Javascript object>"
            ]
          },
          "metadata": {},
          "output_type": "display_data"
        }
      ],
      "source": [
        "df.to_csv('CBSA.csv')"
      ]
    },
    {
      "cell_type": "code",
      "execution_count": null,
      "metadata": {},
      "outputs": [],
      "source": [
        "# look at top incoming states\n",
        "df.groupby('to_cbsa')['counselors_transferred'].agg([np.sum]).sort_values(by=['sum'], ascending=False)"
      ]
    },
    {
      "cell_type": "code",
      "execution_count": null,
      "metadata": {},
      "outputs": [],
      "source": [
        "# look at top outcoming states\n",
        "df.groupby('from_cbsa')['counselors_transferred'].agg([np.sum]).sort_values(by=['sum'], ascending=False)"
      ]
    }
  ],
  "metadata": {
    "colab": {
      "provenance": []
    },
    "kernelspec": {
      "display_name": "Python 3",
      "name": "python3"
    },
    "language_info": {
      "name": "python"
    }
  },
  "nbformat": 4,
  "nbformat_minor": 0
}
